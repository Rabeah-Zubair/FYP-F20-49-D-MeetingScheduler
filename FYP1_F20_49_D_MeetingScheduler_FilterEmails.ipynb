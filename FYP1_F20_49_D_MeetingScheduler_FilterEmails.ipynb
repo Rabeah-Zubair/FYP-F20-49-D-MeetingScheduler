{
  "nbformat": 4,
  "nbformat_minor": 0,
  "metadata": {
    "colab": {
      "name": "FYP1_F20-49-D-MeetingScheduler_FilterEmails.ipynb",
      "provenance": [],
      "collapsed_sections": []
    },
    "kernelspec": {
      "name": "python3",
      "display_name": "Python 3"
    },
    "accelerator": "GPU"
  },
  "cells": [
    {
      "cell_type": "markdown",
      "metadata": {
        "id": "eaF2-fS5gEWS"
      },
      "source": [
        "### Muhammad Ammar Masood_Rabeah Zubair_Adeena Bilal\r\n",
        "### 17I-0002_17I-0005_17I-0299\r\n",
        "### F20-49-D-MeetingScheduler\r\n"
      ]
    },
    {
      "cell_type": "code",
      "metadata": {
        "colab": {
          "base_uri": "https://localhost:8080/"
        },
        "id": "O0EO3VW39BqK",
        "outputId": "a32d910b-656c-4322-b2c2-a555cae59b35"
      },
      "source": [
        "from google.colab import drive\n",
        "drive.mount('/content/drive')"
      ],
      "execution_count": 2,
      "outputs": [
        {
          "output_type": "stream",
          "text": [
            "Mounted at /content/drive\n"
          ],
          "name": "stdout"
        }
      ]
    },
    {
      "cell_type": "markdown",
      "metadata": {
        "id": "aFeKIBchgegn"
      },
      "source": [
        "#### Importing Libraries"
      ]
    },
    {
      "cell_type": "code",
      "metadata": {
        "colab": {
          "base_uri": "https://localhost:8080/"
        },
        "id": "p8ZNBgty-3Up",
        "outputId": "3b44cbea-0b60-4182-9085-041af4043776"
      },
      "source": [
        "!pip install ktrain"
      ],
      "execution_count": 3,
      "outputs": [
        {
          "output_type": "stream",
          "text": [
            "Collecting ktrain\n",
            "\u001b[?25l  Downloading https://files.pythonhosted.org/packages/84/c3/3147b9a86f236585eb7bb9b115e024a6f3acfcd92df1520f491853c6f6e0/ktrain-0.25.3.tar.gz (25.3MB)\n",
            "\u001b[K     |████████████████████████████████| 25.3MB 132kB/s \n",
            "\u001b[?25hCollecting scikit-learn==0.23.2\n",
            "\u001b[?25l  Downloading https://files.pythonhosted.org/packages/5c/a1/273def87037a7fb010512bbc5901c31cfddfca8080bc63b42b26e3cc55b3/scikit_learn-0.23.2-cp36-cp36m-manylinux1_x86_64.whl (6.8MB)\n",
            "\u001b[K     |████████████████████████████████| 6.8MB 52.5MB/s \n",
            "\u001b[?25hRequirement already satisfied: matplotlib>=3.0.0 in /usr/local/lib/python3.6/dist-packages (from ktrain) (3.2.2)\n",
            "Requirement already satisfied: pandas>=1.0.1 in /usr/local/lib/python3.6/dist-packages (from ktrain) (1.1.5)\n",
            "Requirement already satisfied: fastprogress>=0.1.21 in /usr/local/lib/python3.6/dist-packages (from ktrain) (1.0.0)\n",
            "Requirement already satisfied: requests in /usr/local/lib/python3.6/dist-packages (from ktrain) (2.23.0)\n",
            "Requirement already satisfied: joblib in /usr/local/lib/python3.6/dist-packages (from ktrain) (1.0.0)\n",
            "Requirement already satisfied: packaging in /usr/local/lib/python3.6/dist-packages (from ktrain) (20.8)\n",
            "Requirement already satisfied: ipython in /usr/local/lib/python3.6/dist-packages (from ktrain) (5.5.0)\n",
            "Collecting langdetect\n",
            "\u001b[?25l  Downloading https://files.pythonhosted.org/packages/56/a3/8407c1e62d5980188b4acc45ef3d94b933d14a2ebc9ef3505f22cf772570/langdetect-1.0.8.tar.gz (981kB)\n",
            "\u001b[K     |████████████████████████████████| 983kB 36.0MB/s \n",
            "\u001b[?25hRequirement already satisfied: jieba in /usr/local/lib/python3.6/dist-packages (from ktrain) (0.42.1)\n",
            "Collecting cchardet\n",
            "\u001b[?25l  Downloading https://files.pythonhosted.org/packages/a0/e5/a0b9edd8664ea3b0d3270c451ebbf86655ed9fc4c3e4c45b9afae9c2e382/cchardet-2.1.7-cp36-cp36m-manylinux2010_x86_64.whl (263kB)\n",
            "\u001b[K     |████████████████████████████████| 266kB 51.6MB/s \n",
            "\u001b[?25hCollecting syntok\n",
            "  Downloading https://files.pythonhosted.org/packages/8c/76/a49e73a04b3e3a14ce232e8e28a1587f8108baa665644fe8c40e307e792e/syntok-1.3.1.tar.gz\n",
            "Collecting seqeval==0.0.19\n",
            "  Downloading https://files.pythonhosted.org/packages/93/e5/b7705156a77f742cfe4fc6f22d0c71591edb2d243328dff2f8fc0f933ab6/seqeval-0.0.19.tar.gz\n",
            "Collecting transformers<4.0,>=3.1.0\n",
            "\u001b[?25l  Downloading https://files.pythonhosted.org/packages/3a/83/e74092e7f24a08d751aa59b37a9fc572b2e4af3918cb66f7766c3affb1b4/transformers-3.5.1-py3-none-any.whl (1.3MB)\n",
            "\u001b[K     |████████████████████████████████| 1.3MB 42.5MB/s \n",
            "\u001b[?25hCollecting sentencepiece\n",
            "\u001b[?25l  Downloading https://files.pythonhosted.org/packages/e5/2d/6d4ca4bef9a67070fa1cac508606328329152b1df10bdf31fb6e4e727894/sentencepiece-0.1.94-cp36-cp36m-manylinux2014_x86_64.whl (1.1MB)\n",
            "\u001b[K     |████████████████████████████████| 1.1MB 45.4MB/s \n",
            "\u001b[?25hCollecting keras_bert>=0.86.0\n",
            "  Downloading https://files.pythonhosted.org/packages/e2/7f/95fabd29f4502924fa3f09ff6538c5a7d290dfef2c2fe076d3d1a16e08f0/keras-bert-0.86.0.tar.gz\n",
            "Requirement already satisfied: networkx>=2.3 in /usr/local/lib/python3.6/dist-packages (from ktrain) (2.5)\n",
            "Collecting whoosh\n",
            "\u001b[?25l  Downloading https://files.pythonhosted.org/packages/ba/19/24d0f1f454a2c1eb689ca28d2f178db81e5024f42d82729a4ff6771155cf/Whoosh-2.7.4-py2.py3-none-any.whl (468kB)\n",
            "\u001b[K     |████████████████████████████████| 471kB 49.2MB/s \n",
            "\u001b[?25hCollecting threadpoolctl>=2.0.0\n",
            "  Downloading https://files.pythonhosted.org/packages/f7/12/ec3f2e203afa394a149911729357aa48affc59c20e2c1c8297a60f33f133/threadpoolctl-2.1.0-py3-none-any.whl\n",
            "Requirement already satisfied: numpy>=1.13.3 in /usr/local/lib/python3.6/dist-packages (from scikit-learn==0.23.2->ktrain) (1.19.4)\n",
            "Requirement already satisfied: scipy>=0.19.1 in /usr/local/lib/python3.6/dist-packages (from scikit-learn==0.23.2->ktrain) (1.4.1)\n",
            "Requirement already satisfied: kiwisolver>=1.0.1 in /usr/local/lib/python3.6/dist-packages (from matplotlib>=3.0.0->ktrain) (1.3.1)\n",
            "Requirement already satisfied: cycler>=0.10 in /usr/local/lib/python3.6/dist-packages (from matplotlib>=3.0.0->ktrain) (0.10.0)\n",
            "Requirement already satisfied: python-dateutil>=2.1 in /usr/local/lib/python3.6/dist-packages (from matplotlib>=3.0.0->ktrain) (2.8.1)\n",
            "Requirement already satisfied: pyparsing!=2.0.4,!=2.1.2,!=2.1.6,>=2.0.1 in /usr/local/lib/python3.6/dist-packages (from matplotlib>=3.0.0->ktrain) (2.4.7)\n",
            "Requirement already satisfied: pytz>=2017.2 in /usr/local/lib/python3.6/dist-packages (from pandas>=1.0.1->ktrain) (2018.9)\n",
            "Requirement already satisfied: urllib3!=1.25.0,!=1.25.1,<1.26,>=1.21.1 in /usr/local/lib/python3.6/dist-packages (from requests->ktrain) (1.24.3)\n",
            "Requirement already satisfied: idna<3,>=2.5 in /usr/local/lib/python3.6/dist-packages (from requests->ktrain) (2.10)\n",
            "Requirement already satisfied: certifi>=2017.4.17 in /usr/local/lib/python3.6/dist-packages (from requests->ktrain) (2020.12.5)\n",
            "Requirement already satisfied: chardet<4,>=3.0.2 in /usr/local/lib/python3.6/dist-packages (from requests->ktrain) (3.0.4)\n",
            "Requirement already satisfied: decorator in /usr/local/lib/python3.6/dist-packages (from ipython->ktrain) (4.4.2)\n",
            "Requirement already satisfied: traitlets>=4.2 in /usr/local/lib/python3.6/dist-packages (from ipython->ktrain) (4.3.3)\n",
            "Requirement already satisfied: prompt-toolkit<2.0.0,>=1.0.4 in /usr/local/lib/python3.6/dist-packages (from ipython->ktrain) (1.0.18)\n",
            "Requirement already satisfied: simplegeneric>0.8 in /usr/local/lib/python3.6/dist-packages (from ipython->ktrain) (0.8.1)\n",
            "Requirement already satisfied: pexpect; sys_platform != \"win32\" in /usr/local/lib/python3.6/dist-packages (from ipython->ktrain) (4.8.0)\n",
            "Requirement already satisfied: pygments in /usr/local/lib/python3.6/dist-packages (from ipython->ktrain) (2.6.1)\n",
            "Requirement already satisfied: pickleshare in /usr/local/lib/python3.6/dist-packages (from ipython->ktrain) (0.7.5)\n",
            "Requirement already satisfied: setuptools>=18.5 in /usr/local/lib/python3.6/dist-packages (from ipython->ktrain) (51.0.0)\n",
            "Requirement already satisfied: six in /usr/local/lib/python3.6/dist-packages (from langdetect->ktrain) (1.15.0)\n",
            "Requirement already satisfied: regex in /usr/local/lib/python3.6/dist-packages (from syntok->ktrain) (2019.12.20)\n",
            "Requirement already satisfied: Keras>=2.2.4 in /usr/local/lib/python3.6/dist-packages (from seqeval==0.0.19->ktrain) (2.4.3)\n",
            "Requirement already satisfied: tqdm>=4.27 in /usr/local/lib/python3.6/dist-packages (from transformers<4.0,>=3.1.0->ktrain) (4.41.1)\n",
            "Requirement already satisfied: dataclasses; python_version < \"3.7\" in /usr/local/lib/python3.6/dist-packages (from transformers<4.0,>=3.1.0->ktrain) (0.8)\n",
            "Collecting tokenizers==0.9.3\n",
            "\u001b[?25l  Downloading https://files.pythonhosted.org/packages/4c/34/b39eb9994bc3c999270b69c9eea40ecc6f0e97991dba28282b9fd32d44ee/tokenizers-0.9.3-cp36-cp36m-manylinux1_x86_64.whl (2.9MB)\n",
            "\u001b[K     |████████████████████████████████| 2.9MB 45.9MB/s \n",
            "\u001b[?25hRequirement already satisfied: filelock in /usr/local/lib/python3.6/dist-packages (from transformers<4.0,>=3.1.0->ktrain) (3.0.12)\n",
            "Collecting sacremoses\n",
            "\u001b[?25l  Downloading https://files.pythonhosted.org/packages/7d/34/09d19aff26edcc8eb2a01bed8e98f13a1537005d31e95233fd48216eed10/sacremoses-0.0.43.tar.gz (883kB)\n",
            "\u001b[K     |████████████████████████████████| 890kB 46.8MB/s \n",
            "\u001b[?25hRequirement already satisfied: protobuf in /usr/local/lib/python3.6/dist-packages (from transformers<4.0,>=3.1.0->ktrain) (3.12.4)\n",
            "Collecting keras-transformer>=0.38.0\n",
            "  Downloading https://files.pythonhosted.org/packages/89/6c/d6f0c164f4cc16fbc0d0fea85f5526e87a7d2df7b077809e422a7e626150/keras-transformer-0.38.0.tar.gz\n",
            "Requirement already satisfied: ipython-genutils in /usr/local/lib/python3.6/dist-packages (from traitlets>=4.2->ipython->ktrain) (0.2.0)\n",
            "Requirement already satisfied: wcwidth in /usr/local/lib/python3.6/dist-packages (from prompt-toolkit<2.0.0,>=1.0.4->ipython->ktrain) (0.2.5)\n",
            "Requirement already satisfied: ptyprocess>=0.5 in /usr/local/lib/python3.6/dist-packages (from pexpect; sys_platform != \"win32\"->ipython->ktrain) (0.6.0)\n",
            "Requirement already satisfied: h5py in /usr/local/lib/python3.6/dist-packages (from Keras>=2.2.4->seqeval==0.0.19->ktrain) (2.10.0)\n",
            "Requirement already satisfied: pyyaml in /usr/local/lib/python3.6/dist-packages (from Keras>=2.2.4->seqeval==0.0.19->ktrain) (3.13)\n",
            "Requirement already satisfied: click in /usr/local/lib/python3.6/dist-packages (from sacremoses->transformers<4.0,>=3.1.0->ktrain) (7.1.2)\n",
            "Collecting keras-pos-embd>=0.11.0\n",
            "  Downloading https://files.pythonhosted.org/packages/09/70/b63ed8fc660da2bb6ae29b9895401c628da5740c048c190b5d7107cadd02/keras-pos-embd-0.11.0.tar.gz\n",
            "Collecting keras-multi-head>=0.27.0\n",
            "  Downloading https://files.pythonhosted.org/packages/e6/32/45adf2549450aca7867deccfa04af80a0ab1ca139af44b16bc669e0e09cd/keras-multi-head-0.27.0.tar.gz\n",
            "Collecting keras-layer-normalization>=0.14.0\n",
            "  Downloading https://files.pythonhosted.org/packages/a4/0e/d1078df0494bac9ce1a67954e5380b6e7569668f0f3b50a9531c62c1fc4a/keras-layer-normalization-0.14.0.tar.gz\n",
            "Collecting keras-position-wise-feed-forward>=0.6.0\n",
            "  Downloading https://files.pythonhosted.org/packages/e3/59/f0faa1037c033059e7e9e7758e6c23b4d1c0772cd48de14c4b6fd4033ad5/keras-position-wise-feed-forward-0.6.0.tar.gz\n",
            "Collecting keras-embed-sim>=0.8.0\n",
            "  Downloading https://files.pythonhosted.org/packages/57/ef/61a1e39082c9e1834a2d09261d4a0b69f7c818b359216d4e1912b20b1c86/keras-embed-sim-0.8.0.tar.gz\n",
            "Collecting keras-self-attention==0.46.0\n",
            "  Downloading https://files.pythonhosted.org/packages/15/6b/c804924a056955fa1f3ff767945187103cfc851ba9bd0fc5a6c6bc18e2eb/keras-self-attention-0.46.0.tar.gz\n",
            "Building wheels for collected packages: ktrain, langdetect, syntok, seqeval, keras-bert, sacremoses, keras-transformer, keras-pos-embd, keras-multi-head, keras-layer-normalization, keras-position-wise-feed-forward, keras-embed-sim, keras-self-attention\n",
            "  Building wheel for ktrain (setup.py) ... \u001b[?25l\u001b[?25hdone\n",
            "  Created wheel for ktrain: filename=ktrain-0.25.3-cp36-none-any.whl size=25276312 sha256=bf24bfc13caa6bdb5ea3f0d5fffbdcc3d20ce60dab037cbad5188a50ff4f51ff\n",
            "  Stored in directory: /root/.cache/pip/wheels/86/cd/9c/ad53b98a3eccf4ddeddccfce99d353781f206a1ac4287ca721\n",
            "  Building wheel for langdetect (setup.py) ... \u001b[?25l\u001b[?25hdone\n",
            "  Created wheel for langdetect: filename=langdetect-1.0.8-cp36-none-any.whl size=993194 sha256=5ca1fd68f547b25cc273329f5f6f2f5c4b1f8d7b7564af19eb591ba671d8d916\n",
            "  Stored in directory: /root/.cache/pip/wheels/8d/b3/aa/6d99de9f3841d7d3d40a60ea06e6d669e8e5012e6c8b947a57\n",
            "  Building wheel for syntok (setup.py) ... \u001b[?25l\u001b[?25hdone\n",
            "  Created wheel for syntok: filename=syntok-1.3.1-cp36-none-any.whl size=20918 sha256=656b240f0de74de291a4a7fdd92ea250b9af2e0f391d0efa331cbe1f61d039f0\n",
            "  Stored in directory: /root/.cache/pip/wheels/51/c6/a4/be1920586c49469846bcd2888200bdecfe109ec421dab9be2d\n",
            "  Building wheel for seqeval (setup.py) ... \u001b[?25l\u001b[?25hdone\n",
            "  Created wheel for seqeval: filename=seqeval-0.0.19-cp36-none-any.whl size=9919 sha256=9fecec200f013a4859006689889f53229cae0caf1675bd4452d6ce88caf473a0\n",
            "  Stored in directory: /root/.cache/pip/wheels/8d/1f/bf/1198beceed805a2099060975f6281d1b01046dd279e19c97be\n",
            "  Building wheel for keras-bert (setup.py) ... \u001b[?25l\u001b[?25hdone\n",
            "  Created wheel for keras-bert: filename=keras_bert-0.86.0-cp36-none-any.whl size=34145 sha256=40a7f487721b53168e89b152bbad74bd55b4cc8dd381a821af31adc51732cae0\n",
            "  Stored in directory: /root/.cache/pip/wheels/66/f0/b1/748128b58562fc9e31b907bb5e2ab6a35eb37695e83911236b\n",
            "  Building wheel for sacremoses (setup.py) ... \u001b[?25l\u001b[?25hdone\n",
            "  Created wheel for sacremoses: filename=sacremoses-0.0.43-cp36-none-any.whl size=893261 sha256=748421d6d5c368aa4ce855d3b94219fda244e49eb567826849059c546869d72b\n",
            "  Stored in directory: /root/.cache/pip/wheels/29/3c/fd/7ce5c3f0666dab31a50123635e6fb5e19ceb42ce38d4e58f45\n",
            "  Building wheel for keras-transformer (setup.py) ... \u001b[?25l\u001b[?25hdone\n",
            "  Created wheel for keras-transformer: filename=keras_transformer-0.38.0-cp36-none-any.whl size=12944 sha256=0e59f7e87835b04a59ba18f3034b83afb45bf0cfdb16b15ea4d5b4166cc4329e\n",
            "  Stored in directory: /root/.cache/pip/wheels/e5/fb/3a/37b2b9326c799aa010ae46a04ddb04f320d8c77c0b7e837f4e\n",
            "  Building wheel for keras-pos-embd (setup.py) ... \u001b[?25l\u001b[?25hdone\n",
            "  Created wheel for keras-pos-embd: filename=keras_pos_embd-0.11.0-cp36-none-any.whl size=7553 sha256=30936ad8f1437ec9f3bcf19563e88bd6712fe9cfde1819658236124113efa522\n",
            "  Stored in directory: /root/.cache/pip/wheels/5b/a1/a0/ce6b1d49ba1a9a76f592e70cf297b05c96bc9f418146761032\n",
            "  Building wheel for keras-multi-head (setup.py) ... \u001b[?25l\u001b[?25hdone\n",
            "  Created wheel for keras-multi-head: filename=keras_multi_head-0.27.0-cp36-none-any.whl size=15612 sha256=66149f18d3839535e38f39b8d0a66a956bd641c327868701074dc867cabd8632\n",
            "  Stored in directory: /root/.cache/pip/wheels/b5/b4/49/0a0c27dcb93c13af02fea254ff51d1a43a924dd4e5b7a7164d\n",
            "  Building wheel for keras-layer-normalization (setup.py) ... \u001b[?25l\u001b[?25hdone\n",
            "  Created wheel for keras-layer-normalization: filename=keras_layer_normalization-0.14.0-cp36-none-any.whl size=5267 sha256=9c4c90cdeae3ab04fa538b3742ecb72be85c7b2967e99130e282cff7f93747c4\n",
            "  Stored in directory: /root/.cache/pip/wheels/54/80/22/a638a7d406fd155e507aa33d703e3fa2612b9eb7bb4f4fe667\n",
            "  Building wheel for keras-position-wise-feed-forward (setup.py) ... \u001b[?25l\u001b[?25hdone\n",
            "  Created wheel for keras-position-wise-feed-forward: filename=keras_position_wise_feed_forward-0.6.0-cp36-none-any.whl size=5625 sha256=34621a3e197debf5cd697c78ff3be14fdfe15811023128746c8cdcb31f37fbb5\n",
            "  Stored in directory: /root/.cache/pip/wheels/39/e2/e2/3514fef126a00574b13bc0b9e23891800158df3a3c19c96e3b\n",
            "  Building wheel for keras-embed-sim (setup.py) ... \u001b[?25l\u001b[?25hdone\n",
            "  Created wheel for keras-embed-sim: filename=keras_embed_sim-0.8.0-cp36-none-any.whl size=4559 sha256=b05caaa0fe3cb7a0ea5ad7535d30e7bab9dfb58b0f42cc5dba4863a241a2944e\n",
            "  Stored in directory: /root/.cache/pip/wheels/49/45/8b/c111f6cc8bec253e984677de73a6f4f5d2f1649f42aac191c8\n",
            "  Building wheel for keras-self-attention (setup.py) ... \u001b[?25l\u001b[?25hdone\n",
            "  Created wheel for keras-self-attention: filename=keras_self_attention-0.46.0-cp36-none-any.whl size=17278 sha256=d837bec425d47cab7378efd7a0231b5e38354fd2c565a504b3c010a8ddc596a5\n",
            "  Stored in directory: /root/.cache/pip/wheels/d2/2e/80/fec4c05eb23c8e13b790e26d207d6e0ffe8013fad8c6bdd4d2\n",
            "Successfully built ktrain langdetect syntok seqeval keras-bert sacremoses keras-transformer keras-pos-embd keras-multi-head keras-layer-normalization keras-position-wise-feed-forward keras-embed-sim keras-self-attention\n",
            "\u001b[31mERROR: transformers 3.5.1 has requirement sentencepiece==0.1.91, but you'll have sentencepiece 0.1.94 which is incompatible.\u001b[0m\n",
            "Installing collected packages: threadpoolctl, scikit-learn, langdetect, cchardet, syntok, seqeval, tokenizers, sacremoses, sentencepiece, transformers, keras-pos-embd, keras-self-attention, keras-multi-head, keras-layer-normalization, keras-position-wise-feed-forward, keras-embed-sim, keras-transformer, keras-bert, whoosh, ktrain\n",
            "  Found existing installation: scikit-learn 0.22.2.post1\n",
            "    Uninstalling scikit-learn-0.22.2.post1:\n",
            "      Successfully uninstalled scikit-learn-0.22.2.post1\n",
            "Successfully installed cchardet-2.1.7 keras-bert-0.86.0 keras-embed-sim-0.8.0 keras-layer-normalization-0.14.0 keras-multi-head-0.27.0 keras-pos-embd-0.11.0 keras-position-wise-feed-forward-0.6.0 keras-self-attention-0.46.0 keras-transformer-0.38.0 ktrain-0.25.3 langdetect-1.0.8 sacremoses-0.0.43 scikit-learn-0.23.2 sentencepiece-0.1.94 seqeval-0.0.19 syntok-1.3.1 threadpoolctl-2.1.0 tokenizers-0.9.3 transformers-3.5.1 whoosh-2.7.4\n"
          ],
          "name": "stdout"
        }
      ]
    },
    {
      "cell_type": "code",
      "metadata": {
        "id": "YnKFQqUraVPh"
      },
      "source": [
        "import pandas as pd\r\n",
        "import numpy as np\r\n",
        "from pandas import DataFrame\r\n",
        "import tensorflow as tf\r\n",
        "import ktrain\r\n",
        "from ktrain import text\r\n",
        "from sklearn.model_selection import train_test_split\r\n",
        "import re"
      ],
      "execution_count": 4,
      "outputs": []
    },
    {
      "cell_type": "markdown",
      "metadata": {
        "id": "BG7t3J79gq1K"
      },
      "source": [
        "#### Loading Data"
      ]
    },
    {
      "cell_type": "code",
      "metadata": {
        "id": "W3SCNEjqmG15"
      },
      "source": [
        "headers = [\"Subject\", \"From\", \"To\", \"Date\", \"Message\", \"Label\"]"
      ],
      "execution_count": 5,
      "outputs": []
    },
    {
      "cell_type": "code",
      "metadata": {
        "colab": {
          "base_uri": "https://localhost:8080/",
          "height": 289
        },
        "id": "4WGic_GsZZXr",
        "outputId": "8c7829b8-99ab-45c9-9d07-ce2a99307019"
      },
      "source": [
        "data = pd.read_csv(\"/content/drive/MyDrive/meeting_nonmeeting_dataset - messages.csv\", names = headers, dtype=object)\r\n",
        "data.head()"
      ],
      "execution_count": 6,
      "outputs": [
        {
          "output_type": "execute_result",
          "data": {
            "text/html": [
              "<div>\n",
              "<style scoped>\n",
              "    .dataframe tbody tr th:only-of-type {\n",
              "        vertical-align: middle;\n",
              "    }\n",
              "\n",
              "    .dataframe tbody tr th {\n",
              "        vertical-align: top;\n",
              "    }\n",
              "\n",
              "    .dataframe thead th {\n",
              "        text-align: right;\n",
              "    }\n",
              "</style>\n",
              "<table border=\"1\" class=\"dataframe\">\n",
              "  <thead>\n",
              "    <tr style=\"text-align: right;\">\n",
              "      <th></th>\n",
              "      <th>Subject</th>\n",
              "      <th>From</th>\n",
              "      <th>To</th>\n",
              "      <th>Date</th>\n",
              "      <th>Message</th>\n",
              "      <th>Label</th>\n",
              "    </tr>\n",
              "  </thead>\n",
              "  <tbody>\n",
              "    <tr>\n",
              "      <th>0</th>\n",
              "      <td>\"The best of Gmail, wherever you are\"</td>\n",
              "      <td>Gmail Team &lt;mail-noreply@google.com&gt;</td>\n",
              "      <td>Rabeah Zubair &lt;i170005@nu.edu.pk&gt;</td>\n",
              "      <td>8/11/2017</td>\n",
              "      <td>Subject:\\nThe best of Gmail, wherever you are\\...</td>\n",
              "      <td>0</td>\n",
              "    </tr>\n",
              "    <tr>\n",
              "      <th>1</th>\n",
              "      <td>Tips for using your new inbox</td>\n",
              "      <td>Gmail Team &lt;mail-noreply@google.com&gt;</td>\n",
              "      <td>Rabeah Zubair &lt;i170005@nu.edu.pk&gt;</td>\n",
              "      <td>8/11/2017</td>\n",
              "      <td>Subject:\\nTips for using your new inbox\\nFrom:...</td>\n",
              "      <td>0</td>\n",
              "    </tr>\n",
              "    <tr>\n",
              "      <th>2</th>\n",
              "      <td>\"[ CS Academic Office, Islamabad -  Announceme...</td>\n",
              "      <td>SLATE&lt;no-reply@nu.edu.pk&gt;</td>\n",
              "      <td>\"CS Academic Office, Islamabad&lt;no-reply@nu.edu.p\"</td>\n",
              "      <td>8/11/2017</td>\n",
              "      <td>Subject:\\n[ CS Academic Office, Islamabad - An...</td>\n",
              "      <td>0</td>\n",
              "    </tr>\n",
              "    <tr>\n",
              "      <th>3</th>\n",
              "      <td>\"[ Student Affair, Islamabad -  Announcement ]...</td>\n",
              "      <td>SLATE&lt;no-reply@nu.edu.pk&gt;</td>\n",
              "      <td>\"Student Affair, Islamabad&lt;no-reply@nu.edu.pk&gt;\"</td>\n",
              "      <td>8/15/2017</td>\n",
              "      <td>Subject:\\n[ Student Affair, Islamabad - Announ...</td>\n",
              "      <td>0</td>\n",
              "    </tr>\n",
              "    <tr>\n",
              "      <th>4</th>\n",
              "      <td>[ Introduction to Computing CS 2017-03 ISB - New</td>\n",
              "      <td>SLATE&lt;no-reply@nu.edu.pk&gt;</td>\n",
              "      <td>Introduction to Computing CS 2017-03 ISB&lt;no-rep</td>\n",
              "      <td>8/17/2017</td>\n",
              "      <td>Subject:\\n[ Introduction to Computing CS 2017-...</td>\n",
              "      <td>0</td>\n",
              "    </tr>\n",
              "  </tbody>\n",
              "</table>\n",
              "</div>"
            ],
            "text/plain": [
              "                                             Subject  ... Label\n",
              "0              \"The best of Gmail, wherever you are\"  ...     0\n",
              "1                      Tips for using your new inbox  ...     0\n",
              "2  \"[ CS Academic Office, Islamabad -  Announceme...  ...     0\n",
              "3  \"[ Student Affair, Islamabad -  Announcement ]...  ...     0\n",
              "4  [ Introduction to Computing CS 2017-03 ISB - New   ...     0\n",
              "\n",
              "[5 rows x 6 columns]"
            ]
          },
          "metadata": {
            "tags": []
          },
          "execution_count": 6
        }
      ]
    },
    {
      "cell_type": "code",
      "metadata": {
        "id": "tJaGdzRoRhgD"
      },
      "source": [
        "#Change datatype of Labels to object(str)\r\n",
        "\r\n",
        "convert_dict = {'Label': str} \r\n",
        "data = data.astype(convert_dict) "
      ],
      "execution_count": 9,
      "outputs": []
    },
    {
      "cell_type": "code",
      "metadata": {
        "colab": {
          "base_uri": "https://localhost:8080/"
        },
        "id": "xhPxJW4EarcL",
        "outputId": "9bacb9b1-ba89-40f8-a199-67a75b7a9363"
      },
      "source": [
        "data.dtypes"
      ],
      "execution_count": 8,
      "outputs": [
        {
          "output_type": "execute_result",
          "data": {
            "text/plain": [
              "Subject    object\n",
              "From       object\n",
              "To         object\n",
              "Date       object\n",
              "Message    object\n",
              "Label      object\n",
              "dtype: object"
            ]
          },
          "metadata": {
            "tags": []
          },
          "execution_count": 8
        }
      ]
    },
    {
      "cell_type": "markdown",
      "metadata": {
        "id": "J6Mp34fjgztN"
      },
      "source": [
        "###### Drop Unnecessary Columns"
      ]
    },
    {
      "cell_type": "code",
      "metadata": {
        "id": "ATxDMKkEa6jM"
      },
      "source": [
        "drop_labels = ['From', 'To', 'Date']\r\n",
        "data.drop(drop_labels, axis = 1, inplace= True)"
      ],
      "execution_count": 10,
      "outputs": []
    },
    {
      "cell_type": "code",
      "metadata": {
        "colab": {
          "base_uri": "https://localhost:8080/",
          "height": 204
        },
        "id": "GaJoKLXNc-Kd",
        "outputId": "f7ddfb9e-acf6-4968-febd-3881e3f3bda7"
      },
      "source": [
        "data.head()"
      ],
      "execution_count": 11,
      "outputs": [
        {
          "output_type": "execute_result",
          "data": {
            "text/html": [
              "<div>\n",
              "<style scoped>\n",
              "    .dataframe tbody tr th:only-of-type {\n",
              "        vertical-align: middle;\n",
              "    }\n",
              "\n",
              "    .dataframe tbody tr th {\n",
              "        vertical-align: top;\n",
              "    }\n",
              "\n",
              "    .dataframe thead th {\n",
              "        text-align: right;\n",
              "    }\n",
              "</style>\n",
              "<table border=\"1\" class=\"dataframe\">\n",
              "  <thead>\n",
              "    <tr style=\"text-align: right;\">\n",
              "      <th></th>\n",
              "      <th>Subject</th>\n",
              "      <th>Message</th>\n",
              "      <th>Label</th>\n",
              "    </tr>\n",
              "  </thead>\n",
              "  <tbody>\n",
              "    <tr>\n",
              "      <th>0</th>\n",
              "      <td>\"The best of Gmail, wherever you are\"</td>\n",
              "      <td>Subject:\\nThe best of Gmail, wherever you are\\...</td>\n",
              "      <td>0</td>\n",
              "    </tr>\n",
              "    <tr>\n",
              "      <th>1</th>\n",
              "      <td>Tips for using your new inbox</td>\n",
              "      <td>Subject:\\nTips for using your new inbox\\nFrom:...</td>\n",
              "      <td>0</td>\n",
              "    </tr>\n",
              "    <tr>\n",
              "      <th>2</th>\n",
              "      <td>\"[ CS Academic Office, Islamabad -  Announceme...</td>\n",
              "      <td>Subject:\\n[ CS Academic Office, Islamabad - An...</td>\n",
              "      <td>0</td>\n",
              "    </tr>\n",
              "    <tr>\n",
              "      <th>3</th>\n",
              "      <td>\"[ Student Affair, Islamabad -  Announcement ]...</td>\n",
              "      <td>Subject:\\n[ Student Affair, Islamabad - Announ...</td>\n",
              "      <td>0</td>\n",
              "    </tr>\n",
              "    <tr>\n",
              "      <th>4</th>\n",
              "      <td>[ Introduction to Computing CS 2017-03 ISB - New</td>\n",
              "      <td>Subject:\\n[ Introduction to Computing CS 2017-...</td>\n",
              "      <td>0</td>\n",
              "    </tr>\n",
              "  </tbody>\n",
              "</table>\n",
              "</div>"
            ],
            "text/plain": [
              "                                             Subject  ... Label\n",
              "0              \"The best of Gmail, wherever you are\"  ...     0\n",
              "1                      Tips for using your new inbox  ...     0\n",
              "2  \"[ CS Academic Office, Islamabad -  Announceme...  ...     0\n",
              "3  \"[ Student Affair, Islamabad -  Announcement ]...  ...     0\n",
              "4  [ Introduction to Computing CS 2017-03 ISB - New   ...     0\n",
              "\n",
              "[5 rows x 3 columns]"
            ]
          },
          "metadata": {
            "tags": []
          },
          "execution_count": 11
        }
      ]
    },
    {
      "cell_type": "markdown",
      "metadata": {
        "id": "9LB2_KqsA7k0"
      },
      "source": [
        "##### Using regular expressions to drop out unnecessary headings, etc"
      ]
    },
    {
      "cell_type": "code",
      "metadata": {
        "id": "ht4M-iOZhcYF"
      },
      "source": [
        "patterns = [r'Subject:(\\n)*.*(\\n)*From:(\\n)*.*(\\n)*Date:(\\n)*.*(\\n)*To:(\\n)*.*(\\n)*',\r\n",
        "            r'(\\n)*Attachments:(\\n)*.*',\r\n",
        "            r'(\\n)*An announcement has been added in the.*(\\n)*Subject:.*(\\n)*Group:.*(\\n)*Message:.*\\n',\r\n",
        "            r'(-)+ Forwarded Message (-)+(\\n)*From:.*(\\n)*Date:.*(\\n)*Subject:.*(\\n)*To:.*(\\n)*(Cc:.*)*(\\n)*',\r\n",
        "            r'Your email preferences are currently set to.*(\\n)*Here.*what happened in.*(\\n)*']\r\n",
        "\r\n",
        "for i in range (0,len(data[\"Message\"])):\r\n",
        "  for pattern in patterns:\r\n",
        "    message = data[\"Message\"][i]\r\n",
        "    data[\"Message\"][i] = re.sub(pattern, '', message)\r\n"
      ],
      "execution_count": 16,
      "outputs": []
    },
    {
      "cell_type": "code",
      "metadata": {
        "colab": {
          "base_uri": "https://localhost:8080/"
        },
        "id": "TvHT8iP2HOcu",
        "outputId": "feb26f72-3abf-462a-953c-0b14d594f846"
      },
      "source": [
        "print(data[\"Message\"])"
      ],
      "execution_count": 18,
      "outputs": [
        {
          "output_type": "stream",
          "text": [
            "0       The best of Gmail, wherever you are\\n\\nGoogle\\...\n",
            "1       Tips for using your new inbox\\n\\nGoogle\\n\\nHi ...\n",
            "2       [ CS Academic Office, Islamabad - Announcement...\n",
            "3       [ Student Affair, Islamabad - Announcement ] F...\n",
            "4       [ Introduction to Computing CS 2017-03 ISB - N...\n",
            "                              ...                        \n",
            "1624    Google logo\\nYour account, your data.\\nWe've f...\n",
            "1625    Classroom\\nHi I17-0005 Rabeah,\\numair arshad p...\n",
            "1626    Dear Rabeah Zubair !\\n\\n(Для русскоязычной вер...\n",
            "1627    Classroom\\nHi I17-0005 Rabeah,\\nYour work #08 ...\n",
            "1628    \\t\\nGoogle\\nSign-in attempt was blocked\\n\\ti17...\n",
            "Name: Message, Length: 1629, dtype: object\n"
          ],
          "name": "stdout"
        }
      ]
    },
    {
      "cell_type": "code",
      "metadata": {
        "colab": {
          "base_uri": "https://localhost:8080/",
          "height": 419
        },
        "id": "YqRdyGOfpfPj",
        "outputId": "e7ded32f-b368-46b5-8ecd-4beaefb4f662"
      },
      "source": [
        "subject_data = data[[\"Subject\",\"Label\"]]\r\n",
        "subject_data"
      ],
      "execution_count": 19,
      "outputs": [
        {
          "output_type": "execute_result",
          "data": {
            "text/html": [
              "<div>\n",
              "<style scoped>\n",
              "    .dataframe tbody tr th:only-of-type {\n",
              "        vertical-align: middle;\n",
              "    }\n",
              "\n",
              "    .dataframe tbody tr th {\n",
              "        vertical-align: top;\n",
              "    }\n",
              "\n",
              "    .dataframe thead th {\n",
              "        text-align: right;\n",
              "    }\n",
              "</style>\n",
              "<table border=\"1\" class=\"dataframe\">\n",
              "  <thead>\n",
              "    <tr style=\"text-align: right;\">\n",
              "      <th></th>\n",
              "      <th>Subject</th>\n",
              "      <th>Label</th>\n",
              "    </tr>\n",
              "  </thead>\n",
              "  <tbody>\n",
              "    <tr>\n",
              "      <th>0</th>\n",
              "      <td>\"The best of Gmail, wherever you are\"</td>\n",
              "      <td>0</td>\n",
              "    </tr>\n",
              "    <tr>\n",
              "      <th>1</th>\n",
              "      <td>Tips for using your new inbox</td>\n",
              "      <td>0</td>\n",
              "    </tr>\n",
              "    <tr>\n",
              "      <th>2</th>\n",
              "      <td>\"[ CS Academic Office, Islamabad -  Announceme...</td>\n",
              "      <td>0</td>\n",
              "    </tr>\n",
              "    <tr>\n",
              "      <th>3</th>\n",
              "      <td>\"[ Student Affair, Islamabad -  Announcement ]...</td>\n",
              "      <td>0</td>\n",
              "    </tr>\n",
              "    <tr>\n",
              "      <th>4</th>\n",
              "      <td>[ Introduction to Computing CS 2017-03 ISB - New</td>\n",
              "      <td>0</td>\n",
              "    </tr>\n",
              "    <tr>\n",
              "      <th>...</th>\n",
              "      <td>...</td>\n",
              "      <td>...</td>\n",
              "    </tr>\n",
              "    <tr>\n",
              "      <th>1624</th>\n",
              "      <td>Your Google data is ready to download</td>\n",
              "      <td>0</td>\n",
              "    </tr>\n",
              "    <tr>\n",
              "      <th>1625</th>\n",
              "      <td>New announcement: \"\"For Section C and E.Last W...</td>\n",
              "      <td>0</td>\n",
              "    </tr>\n",
              "    <tr>\n",
              "      <th>1626</th>\n",
              "      <td>Popular HSE courses and education programms // П</td>\n",
              "      <td>0</td>\n",
              "    </tr>\n",
              "    <tr>\n",
              "      <th>1627</th>\n",
              "      <td>Due tomorrow: \"\"#08 - FYP-1 Final Presentation...</td>\n",
              "      <td>0</td>\n",
              "    </tr>\n",
              "    <tr>\n",
              "      <th>1628</th>\n",
              "      <td>Critical security alert</td>\n",
              "      <td>1</td>\n",
              "    </tr>\n",
              "  </tbody>\n",
              "</table>\n",
              "<p>1629 rows × 2 columns</p>\n",
              "</div>"
            ],
            "text/plain": [
              "                                                Subject Label\n",
              "0                 \"The best of Gmail, wherever you are\"     0\n",
              "1                         Tips for using your new inbox     0\n",
              "2     \"[ CS Academic Office, Islamabad -  Announceme...     0\n",
              "3     \"[ Student Affair, Islamabad -  Announcement ]...     0\n",
              "4     [ Introduction to Computing CS 2017-03 ISB - New      0\n",
              "...                                                 ...   ...\n",
              "1624              Your Google data is ready to download     0\n",
              "1625  New announcement: \"\"For Section C and E.Last W...     0\n",
              "1626   Popular HSE courses and education programms // П     0\n",
              "1627  Due tomorrow: \"\"#08 - FYP-1 Final Presentation...     0\n",
              "1628                            Critical security alert     1\n",
              "\n",
              "[1629 rows x 2 columns]"
            ]
          },
          "metadata": {
            "tags": []
          },
          "execution_count": 19
        }
      ]
    },
    {
      "cell_type": "code",
      "metadata": {
        "colab": {
          "base_uri": "https://localhost:8080/",
          "height": 419
        },
        "id": "rASR2Z6sqkCi",
        "outputId": "9065f338-de01-469b-fdd9-005a8d6b4337"
      },
      "source": [
        "message_data = data[[\"Message\",\"Label\"]]\r\n",
        "message_data"
      ],
      "execution_count": 20,
      "outputs": [
        {
          "output_type": "execute_result",
          "data": {
            "text/html": [
              "<div>\n",
              "<style scoped>\n",
              "    .dataframe tbody tr th:only-of-type {\n",
              "        vertical-align: middle;\n",
              "    }\n",
              "\n",
              "    .dataframe tbody tr th {\n",
              "        vertical-align: top;\n",
              "    }\n",
              "\n",
              "    .dataframe thead th {\n",
              "        text-align: right;\n",
              "    }\n",
              "</style>\n",
              "<table border=\"1\" class=\"dataframe\">\n",
              "  <thead>\n",
              "    <tr style=\"text-align: right;\">\n",
              "      <th></th>\n",
              "      <th>Message</th>\n",
              "      <th>Label</th>\n",
              "    </tr>\n",
              "  </thead>\n",
              "  <tbody>\n",
              "    <tr>\n",
              "      <th>0</th>\n",
              "      <td>The best of Gmail, wherever you are\\n\\nGoogle\\...</td>\n",
              "      <td>0</td>\n",
              "    </tr>\n",
              "    <tr>\n",
              "      <th>1</th>\n",
              "      <td>Tips for using your new inbox\\n\\nGoogle\\n\\nHi ...</td>\n",
              "      <td>0</td>\n",
              "    </tr>\n",
              "    <tr>\n",
              "      <th>2</th>\n",
              "      <td>[ CS Academic Office, Islamabad - Announcement...</td>\n",
              "      <td>0</td>\n",
              "    </tr>\n",
              "    <tr>\n",
              "      <th>3</th>\n",
              "      <td>[ Student Affair, Islamabad - Announcement ] F...</td>\n",
              "      <td>0</td>\n",
              "    </tr>\n",
              "    <tr>\n",
              "      <th>4</th>\n",
              "      <td>[ Introduction to Computing CS 2017-03 ISB - N...</td>\n",
              "      <td>0</td>\n",
              "    </tr>\n",
              "    <tr>\n",
              "      <th>...</th>\n",
              "      <td>...</td>\n",
              "      <td>...</td>\n",
              "    </tr>\n",
              "    <tr>\n",
              "      <th>1624</th>\n",
              "      <td>Google logo\\nYour account, your data.\\nWe've f...</td>\n",
              "      <td>0</td>\n",
              "    </tr>\n",
              "    <tr>\n",
              "      <th>1625</th>\n",
              "      <td>Classroom\\nHi I17-0005 Rabeah,\\numair arshad p...</td>\n",
              "      <td>0</td>\n",
              "    </tr>\n",
              "    <tr>\n",
              "      <th>1626</th>\n",
              "      <td>Dear Rabeah Zubair !\\n\\n(Для русскоязычной вер...</td>\n",
              "      <td>0</td>\n",
              "    </tr>\n",
              "    <tr>\n",
              "      <th>1627</th>\n",
              "      <td>Classroom\\nHi I17-0005 Rabeah,\\nYour work #08 ...</td>\n",
              "      <td>0</td>\n",
              "    </tr>\n",
              "    <tr>\n",
              "      <th>1628</th>\n",
              "      <td>\\t\\nGoogle\\nSign-in attempt was blocked\\n\\ti17...</td>\n",
              "      <td>1</td>\n",
              "    </tr>\n",
              "  </tbody>\n",
              "</table>\n",
              "<p>1629 rows × 2 columns</p>\n",
              "</div>"
            ],
            "text/plain": [
              "                                                Message Label\n",
              "0     The best of Gmail, wherever you are\\n\\nGoogle\\...     0\n",
              "1     Tips for using your new inbox\\n\\nGoogle\\n\\nHi ...     0\n",
              "2     [ CS Academic Office, Islamabad - Announcement...     0\n",
              "3     [ Student Affair, Islamabad - Announcement ] F...     0\n",
              "4     [ Introduction to Computing CS 2017-03 ISB - N...     0\n",
              "...                                                 ...   ...\n",
              "1624  Google logo\\nYour account, your data.\\nWe've f...     0\n",
              "1625  Classroom\\nHi I17-0005 Rabeah,\\numair arshad p...     0\n",
              "1626  Dear Rabeah Zubair !\\n\\n(Для русскоязычной вер...     0\n",
              "1627  Classroom\\nHi I17-0005 Rabeah,\\nYour work #08 ...     0\n",
              "1628  \\t\\nGoogle\\nSign-in attempt was blocked\\n\\ti17...     1\n",
              "\n",
              "[1629 rows x 2 columns]"
            ]
          },
          "metadata": {
            "tags": []
          },
          "execution_count": 20
        }
      ]
    },
    {
      "cell_type": "code",
      "metadata": {
        "id": "gyV96JOW8ARZ"
      },
      "source": [
        "#Dividing subject data into train and test\r\n",
        "\r\n",
        "msk = np.random.rand(len(subject_data)) < 0.75\r\n",
        "\r\n",
        "subject_train = subject_data[msk]\r\n",
        "subject_test = subject_data[~msk]"
      ],
      "execution_count": 21,
      "outputs": []
    },
    {
      "cell_type": "code",
      "metadata": {
        "id": "SG9Mb1It9G7-"
      },
      "source": [
        "#Dividing message data into train and test\r\n",
        "\r\n",
        "msk = np.random.rand(len(message_data)) < 0.75\r\n",
        "\r\n",
        "message_train = message_data[msk]\r\n",
        "message_test = message_data[~msk]"
      ],
      "execution_count": 22,
      "outputs": []
    },
    {
      "cell_type": "markdown",
      "metadata": {
        "id": "agsZHoyGhVsf"
      },
      "source": [
        "##### Subject data frame with headings: (Subject, Label)\r\n",
        "##### Label = 0; Non-meeting Email\r\n",
        "##### Label = 1; Meeting Email"
      ]
    },
    {
      "cell_type": "code",
      "metadata": {
        "colab": {
          "base_uri": "https://localhost:8080/",
          "height": 272
        },
        "id": "jq-oZk3ykIP8",
        "outputId": "26e2305a-5465-480c-9ba2-7c2fed9b82e1"
      },
      "source": [
        "(X_train, Y_train) , (X_test, Y_test), preprocess = text.texts_from_df(train_df= subject_train, \r\n",
        "                                                                       text_column= 'Subject', \r\n",
        "                                                                       label_columns= 'Label',\r\n",
        "                                                                       val_df = subject_test,\r\n",
        "                                                                       maxlen = 400,\r\n",
        "                                                                       preprocess_mode = 'bert')                                                      "
      ],
      "execution_count": 24,
      "outputs": [
        {
          "output_type": "stream",
          "text": [
            "downloading pretrained BERT model (uncased_L-12_H-768_A-12.zip)...\n",
            "[██████████████████████████████████████████████████]\n",
            "extracting pretrained BERT model...\n",
            "done.\n",
            "\n",
            "cleanup downloaded zip...\n",
            "done.\n",
            "\n",
            "preprocessing train...\n",
            "language: en\n"
          ],
          "name": "stdout"
        },
        {
          "output_type": "display_data",
          "data": {
            "text/html": [
              "done."
            ],
            "text/plain": [
              "<IPython.core.display.HTML object>"
            ]
          },
          "metadata": {
            "tags": []
          }
        },
        {
          "output_type": "stream",
          "text": [
            "Is Multi-Label? False\n",
            "preprocessing test...\n",
            "language: en\n"
          ],
          "name": "stdout"
        },
        {
          "output_type": "display_data",
          "data": {
            "text/html": [
              "done."
            ],
            "text/plain": [
              "<IPython.core.display.HTML object>"
            ]
          },
          "metadata": {
            "tags": []
          }
        }
      ]
    },
    {
      "cell_type": "code",
      "metadata": {
        "colab": {
          "base_uri": "https://localhost:8080/"
        },
        "id": "rsif5STbILyl",
        "outputId": "7641934b-8964-4cc0-b8c8-ad6925dbcbd0"
      },
      "source": [
        "X_train[0].shape"
      ],
      "execution_count": 25,
      "outputs": [
        {
          "output_type": "execute_result",
          "data": {
            "text/plain": [
              "(1243, 400)"
            ]
          },
          "metadata": {
            "tags": []
          },
          "execution_count": 25
        }
      ]
    },
    {
      "cell_type": "markdown",
      "metadata": {
        "id": "0st1K1opiJXv"
      },
      "source": [
        "#### Traing and Predicting from BERT Model"
      ]
    },
    {
      "cell_type": "markdown",
      "metadata": {
        "id": "il0cYaPyNYu2"
      },
      "source": [
        "##### Model for Subject data"
      ]
    },
    {
      "cell_type": "code",
      "metadata": {
        "colab": {
          "base_uri": "https://localhost:8080/"
        },
        "id": "CDb8jj-EKS3n",
        "outputId": "41de356f-0fc3-4ad1-cc5e-1a669429f4f5"
      },
      "source": [
        "model = text.text_classifier(name='bert',\r\n",
        "                             train_data = (X_train, Y_train),\r\n",
        "                             preproc = preprocess)"
      ],
      "execution_count": 26,
      "outputs": [
        {
          "output_type": "stream",
          "text": [
            "Is Multi-Label? False\n",
            "maxlen is 400\n",
            "done.\n"
          ],
          "name": "stdout"
        }
      ]
    },
    {
      "cell_type": "code",
      "metadata": {
        "id": "3KLb_vLCLU4z"
      },
      "source": [
        "# Get Learrner \r\n",
        "learner = ktrain.get_learner(model = model,\r\n",
        "                             train_data = (X_train, Y_train),\r\n",
        "                             val_data = (X_test, Y_test),\r\n",
        "                             batch_size = 6)"
      ],
      "execution_count": 28,
      "outputs": []
    },
    {
      "cell_type": "code",
      "metadata": {
        "colab": {
          "base_uri": "https://localhost:8080/"
        },
        "id": "zoNGduGKNaD5",
        "outputId": "8c6685c0-f9f1-40cf-f607-d34823bcdcf5"
      },
      "source": [
        "#learning rate for this model is 2e-5\r\n",
        "\r\n",
        "learner.fit_onecycle(lr = 2e-5, epochs=3)"
      ],
      "execution_count": 29,
      "outputs": [
        {
          "output_type": "stream",
          "text": [
            "\n",
            "\n",
            "begin training using onecycle policy with max lr of 2e-05...\n",
            "Epoch 1/3\n",
            "208/208 [==============================] - 202s 875ms/step - loss: 0.6077 - accuracy: 0.7858 - val_loss: 0.3371 - val_accuracy: 0.8705\n",
            "Epoch 2/3\n",
            "208/208 [==============================] - 184s 884ms/step - loss: 0.3092 - accuracy: 0.8806 - val_loss: 0.2884 - val_accuracy: 0.8731\n",
            "Epoch 3/3\n",
            "208/208 [==============================] - 183s 881ms/step - loss: 0.2118 - accuracy: 0.9195 - val_loss: 0.2834 - val_accuracy: 0.8756\n"
          ],
          "name": "stdout"
        },
        {
          "output_type": "execute_result",
          "data": {
            "text/plain": [
              "<tensorflow.python.keras.callbacks.History at 0x7f18217f8470>"
            ]
          },
          "metadata": {
            "tags": []
          },
          "execution_count": 29
        }
      ]
    },
    {
      "cell_type": "code",
      "metadata": {
        "id": "2jGWN6y0Nkrc"
      },
      "source": [
        "predictor = ktrain.get_predictor(learner.model, preprocess)"
      ],
      "execution_count": 30,
      "outputs": []
    },
    {
      "cell_type": "code",
      "metadata": {
        "id": "ECJlMfHOZO4p"
      },
      "source": [
        "data = ['On Sat, Aug 15, 2020 at 4:10 PM Rabeah Zubair <i170005@nu.edu.pk> wrote:\\nSir will you be available in the university though? Because we might be visiting university on monday so we could meet you in person instead, if possible?']\r\n",
        "for pattern in patterns:\r\n",
        "  message = data[0]\r\n",
        "  data[0] = re.sub(pattern, '', message)"
      ],
      "execution_count": 31,
      "outputs": []
    },
    {
      "cell_type": "code",
      "metadata": {
        "colab": {
          "base_uri": "https://localhost:8080/"
        },
        "id": "wH2W_slwanBu",
        "outputId": "d2435643-2157-4902-e8fb-5a30276079d8"
      },
      "source": [
        "predictor.predict(data)"
      ],
      "execution_count": 32,
      "outputs": [
        {
          "output_type": "execute_result",
          "data": {
            "text/plain": [
              "['0']"
            ]
          },
          "metadata": {
            "tags": []
          },
          "execution_count": 32
        }
      ]
    },
    {
      "cell_type": "markdown",
      "metadata": {
        "id": "QX3--hnaNqj7"
      },
      "source": [
        "##### Model for Message data"
      ]
    },
    {
      "cell_type": "code",
      "metadata": {
        "id": "_ewWj8Sharqo",
        "colab": {
          "base_uri": "https://localhost:8080/",
          "height": 136
        },
        "outputId": "345ff77f-48e6-4783-8261-3b5fda87083f"
      },
      "source": [
        "(X1_train, Y1_train) , (X1_test, Y1_test), preprocess1 = text.texts_from_df(train_df= message_train, \r\n",
        "                                                                       text_column= 'Message', \r\n",
        "                                                                       label_columns= 'Label',\r\n",
        "                                                                       val_df = message_test,\r\n",
        "                                                                       maxlen = 512,\r\n",
        "                                                                       preprocess_mode = 'bert')    "
      ],
      "execution_count": 33,
      "outputs": [
        {
          "output_type": "stream",
          "text": [
            "preprocessing train...\n",
            "language: en\n"
          ],
          "name": "stdout"
        },
        {
          "output_type": "display_data",
          "data": {
            "text/html": [
              "done."
            ],
            "text/plain": [
              "<IPython.core.display.HTML object>"
            ]
          },
          "metadata": {
            "tags": []
          }
        },
        {
          "output_type": "stream",
          "text": [
            "Is Multi-Label? False\n",
            "preprocessing test...\n",
            "language: en\n"
          ],
          "name": "stdout"
        },
        {
          "output_type": "display_data",
          "data": {
            "text/html": [
              "done."
            ],
            "text/plain": [
              "<IPython.core.display.HTML object>"
            ]
          },
          "metadata": {
            "tags": []
          }
        }
      ]
    },
    {
      "cell_type": "code",
      "metadata": {
        "colab": {
          "base_uri": "https://localhost:8080/"
        },
        "id": "aSCSwijocFPU",
        "outputId": "a6ea281a-c13d-44ca-a9f6-28a2753e1df8"
      },
      "source": [
        "model1 = text.text_classifier(name='bert',\r\n",
        "                             train_data = (X1_train, Y1_train),\r\n",
        "                             preproc = preprocess1)"
      ],
      "execution_count": 37,
      "outputs": [
        {
          "output_type": "stream",
          "text": [
            "Is Multi-Label? False\n",
            "maxlen is 512\n",
            "done.\n"
          ],
          "name": "stdout"
        }
      ]
    },
    {
      "cell_type": "code",
      "metadata": {
        "id": "fVQkS1yRciWB"
      },
      "source": [
        "# Get Learrner \r\n",
        "learner1 = ktrain.get_learner(model = model1,\r\n",
        "                             train_data = (X1_train, Y1_train),\r\n",
        "                             val_data = (X1_test, Y1_test),\r\n",
        "                             batch_size = 6)"
      ],
      "execution_count": 35,
      "outputs": []
    },
    {
      "cell_type": "code",
      "metadata": {
        "colab": {
          "base_uri": "https://localhost:8080/"
        },
        "id": "zAIyQ8s_d7ir",
        "outputId": "91e4873f-e4a9-456c-f2ad-b36eca0a21ba"
      },
      "source": [
        "learner1.fit_onecycle(lr = 2e-5, epochs=3)"
      ],
      "execution_count": 36,
      "outputs": [
        {
          "output_type": "stream",
          "text": [
            "\n",
            "\n",
            "begin training using onecycle policy with max lr of 2e-05...\n",
            "Epoch 1/3\n",
            "208/208 [==============================] - 255s 1s/step - loss: 0.7225 - accuracy: 0.6803 - val_loss: 0.3938 - val_accuracy: 0.8497\n",
            "Epoch 2/3\n",
            "208/208 [==============================] - 236s 1s/step - loss: 0.3592 - accuracy: 0.8222 - val_loss: 0.2583 - val_accuracy: 0.9067\n",
            "Epoch 3/3\n",
            "208/208 [==============================] - 237s 1s/step - loss: 0.1587 - accuracy: 0.9413 - val_loss: 0.2328 - val_accuracy: 0.9249\n"
          ],
          "name": "stdout"
        },
        {
          "output_type": "execute_result",
          "data": {
            "text/plain": [
              "<tensorflow.python.keras.callbacks.History at 0x7f15d5c4d780>"
            ]
          },
          "metadata": {
            "tags": []
          },
          "execution_count": 36
        }
      ]
    },
    {
      "cell_type": "code",
      "metadata": {
        "id": "cgV-o8fDeBT3"
      },
      "source": [
        "predictor1 = ktrain.get_predictor(learner1.model, preprocess1)"
      ],
      "execution_count": 38,
      "outputs": []
    },
    {
      "cell_type": "code",
      "metadata": {
        "id": "UzuzKS_2RO8N"
      },
      "source": [
        "data = ['Subject:\\nNew announcement: \"Dear all kindly arrange a meeting with…\"\\nFrom:\\n\"Amna Irum (Classroom)\" <no-reply+558aa983@classroom.google.com>\\nDate:\\n21/09/2020, 11:48 am\\nTo:i170005@nu.edu.pk\\n\\nClassroom\\nHi Rabeah,\\nAmna Irum posted a new announcement in FYP-Fall-2020.\\n                \\nAnnouncement\\n        \\nDear all kindly arrange a meeting with on google meet this week for discussion.']"
      ],
      "execution_count": 40,
      "outputs": []
    },
    {
      "cell_type": "code",
      "metadata": {
        "colab": {
          "base_uri": "https://localhost:8080/"
        },
        "id": "i6whYaNLhes4",
        "outputId": "c8b74bae-9be9-466e-9cc2-18e04ef97dd1"
      },
      "source": [
        "predictor1.predict(data)"
      ],
      "execution_count": 41,
      "outputs": [
        {
          "output_type": "execute_result",
          "data": {
            "text/plain": [
              "['1']"
            ]
          },
          "metadata": {
            "tags": []
          },
          "execution_count": 41
        }
      ]
    },
    {
      "cell_type": "code",
      "metadata": {
        "id": "igtN3PschkIu"
      },
      "source": [
        "model.save('classify_subject')"
      ],
      "execution_count": 42,
      "outputs": []
    },
    {
      "cell_type": "code",
      "metadata": {
        "id": "G9rQTZ5vsJZc"
      },
      "source": [
        "model1.save('classify_message')"
      ],
      "execution_count": 43,
      "outputs": []
    },
    {
      "cell_type": "code",
      "metadata": {
        "id": "kcoWmUVPVVZa"
      },
      "source": [
        ""
      ],
      "execution_count": null,
      "outputs": []
    }
  ]
}